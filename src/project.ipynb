{
 "cells": [
  {
   "cell_type": "code",
   "execution_count": null,
   "metadata": {},
   "outputs": [],
   "source": [
    "from utils import read_and_standardize_data, get_statistics\n",
    "from pre_processing import comput_kruskal\n",
    "import classifier as cl\n",
    "\n",
    "standarized_train, standarized_test = read_and_standardize_data()\n",
    "\n",
    "# best_features = [*comput_kruskal(standarized_train)][0:28]\n",
    "\n",
    "# standarized_train = standarized_train[[*best_features, \"label\"]]\n",
    "# standarized_test = standarized_test[[*best_features, \"label\"]]"
   ]
  },
  {
   "cell_type": "code",
   "execution_count": null,
   "metadata": {},
   "outputs": [],
   "source": [
    "TARGET_CLASS = \"rock\"\n",
    "\n",
    "def run_one_vs_all(distance_type:str ):\n",
    "    model: cl.Classifier = cl.Classifier()\n",
    "\n",
    "    model.train(\"one_vs_all_1\", standarized_train, target_class=TARGET_CLASS, distance_type=distance_type)\n",
    "\n",
    "    pred_labels = model.predict(standarized_test.iloc[:, :-1])\n",
    "\n",
    "    target_labels = standarized_test.iloc[:, -1].to_numpy()\n",
    "\n",
    "    target_labels[target_labels != TARGET_CLASS] = \"other\"\n",
    "\n",
    "    get_statistics(target_labels, pred_labels, TARGET_CLASS)\n",
    "\n",
    "\n",
    "run_one_vs_all(\"euclidean\")\n",
    "run_one_vs_all(\"mahalanobis\")\n"
   ]
  }
 ],
 "metadata": {
  "kernelspec": {
   "display_name": "rp_project",
   "language": "python",
   "name": "python3"
  },
  "language_info": {
   "codemirror_mode": {
    "name": "ipython",
    "version": 3
   },
   "file_extension": ".py",
   "mimetype": "text/x-python",
   "name": "python",
   "nbconvert_exporter": "python",
   "pygments_lexer": "ipython3",
   "version": "3.10.10"
  },
  "orig_nbformat": 4
 },
 "nbformat": 4,
 "nbformat_minor": 2
}
