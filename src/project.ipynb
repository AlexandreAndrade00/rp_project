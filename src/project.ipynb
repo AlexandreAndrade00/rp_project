{
 "cells": [
  {
   "cell_type": "code",
   "execution_count": 1,
   "metadata": {},
   "outputs": [],
   "source": [
    "from utils import read_and_standardize_data\n",
    "import classifier as cl\n",
    "\n",
    "TARGET_CLASS = \"rock\"\n",
    "\n",
    "standarized_train, standarized_test = read_and_standardize_data(TARGET_CLASS)"
   ]
  },
  {
   "cell_type": "code",
   "execution_count": 2,
   "metadata": {},
   "outputs": [],
   "source": [
    "def run_one_vs_all(train_data, test_data, distance_type:str ):\n",
    "\n",
    "    file = open(\"stats.txt\", \"w\")\n",
    "\n",
    "    model: cl.Classifier = cl.Classifier(train_data)\n",
    "\n",
    "    # for i in range(2, train_data.columns.size):\n",
    "        # model.pre_process(\"LDA\", n_components=i)\n",
    "\n",
    "    model.train(\"one_vs_all\", target_class=TARGET_CLASS, distance_type=distance_type)\n",
    "\n",
    "    model.predict(test_data)\n",
    "\n",
    "    target_labels = test_data.iloc[:, -1].to_numpy()\n",
    "\n",
    "    model.get_statistics(target_labels, TARGET_CLASS, False, file=file)\n",
    "\n",
    "    file.flush()\n",
    "    file.close()\n",
    "\n",
    "run_one_vs_all(standarized_train, standarized_test, \"euclidean\")\n",
    "# run_one_vs_all(standarized_train, standarized_test, \"mahalanobis\")\n"
   ]
  }
 ],
 "metadata": {
  "kernelspec": {
   "display_name": "Python 3 (ipykernel)",
   "language": "python",
   "name": "python3"
  },
  "language_info": {
   "codemirror_mode": {
    "name": "ipython",
    "version": 3
   },
   "file_extension": ".py",
   "mimetype": "text/x-python",
   "name": "python",
   "nbconvert_exporter": "python",
   "pygments_lexer": "ipython3",
   "version": "3.10.10"
  }
 },
 "nbformat": 4,
 "nbformat_minor": 2
}
