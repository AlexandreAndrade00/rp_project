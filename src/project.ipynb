{
 "cells": [
  {
   "cell_type": "code",
   "execution_count": 33,
   "metadata": {},
   "outputs": [],
   "source": [
    "from utils import read_and_standardize_data\n",
    "import classifier as cl\n",
    "\n",
    "TARGET_CLASS = \"rock\"\n",
    "\n",
    "standarized_train, standarized_test = read_and_standardize_data(TARGET_CLASS)"
   ]
  },
  {
   "cell_type": "code",
   "execution_count": 35,
   "metadata": {},
   "outputs": [
    {
     "ename": "ValueError",
     "evalue": "operands could not be broadcast together with shapes (5,) (10,) ",
     "output_type": "error",
     "traceback": [
      "\u001b[0;31m---------------------------------------------------------------------------\u001b[0m",
      "\u001b[0;31mValueError\u001b[0m                                Traceback (most recent call last)",
      "Cell \u001b[0;32mIn[35], line 16\u001b[0m\n\u001b[1;32m     11\u001b[0m     target_labels \u001b[39m=\u001b[39m test_data\u001b[39m.\u001b[39miloc[:, \u001b[39m-\u001b[39m\u001b[39m1\u001b[39m]\u001b[39m.\u001b[39mto_numpy()\n\u001b[1;32m     13\u001b[0m     model\u001b[39m.\u001b[39mget_statistics(target_labels, TARGET_CLASS)\n\u001b[0;32m---> 16\u001b[0m run_one_vs_all(standarized_train, standarized_test, \u001b[39m\"\u001b[39;49m\u001b[39meuclidean\u001b[39;49m\u001b[39m\"\u001b[39;49m)\n\u001b[1;32m     17\u001b[0m run_one_vs_all(standarized_train, standarized_test, \u001b[39m\"\u001b[39m\u001b[39mmahalanobis\u001b[39m\u001b[39m\"\u001b[39m)\n\u001b[1;32m     19\u001b[0m \u001b[39m# run_one_vs_all(pre_processed_train_data, pre_processed_test_data, \"euclidean\")\u001b[39;00m\n\u001b[1;32m     20\u001b[0m \u001b[39m# run_one_vs_all(pre_processed_train_data, pre_processed_test_data, \"mahalanobis\")\u001b[39;00m\n",
      "Cell \u001b[0;32mIn[35], line 9\u001b[0m, in \u001b[0;36mrun_one_vs_all\u001b[0;34m(train_data, test_data, distance_type)\u001b[0m\n\u001b[1;32m      5\u001b[0m model\u001b[39m.\u001b[39mpre_process(\u001b[39m\"\u001b[39m\u001b[39mKW\u001b[39m\u001b[39m\"\u001b[39m)\n\u001b[1;32m      7\u001b[0m model\u001b[39m.\u001b[39mtrain(\u001b[39m\"\u001b[39m\u001b[39mone_vs_all\u001b[39m\u001b[39m\"\u001b[39m, target_class\u001b[39m=\u001b[39mTARGET_CLASS, distance_type\u001b[39m=\u001b[39mdistance_type)\n\u001b[0;32m----> 9\u001b[0m model\u001b[39m.\u001b[39;49mpredict(test_data)\n\u001b[1;32m     11\u001b[0m target_labels \u001b[39m=\u001b[39m test_data\u001b[39m.\u001b[39miloc[:, \u001b[39m-\u001b[39m\u001b[39m1\u001b[39m]\u001b[39m.\u001b[39mto_numpy()\n\u001b[1;32m     13\u001b[0m model\u001b[39m.\u001b[39mget_statistics(target_labels, TARGET_CLASS)\n",
      "File \u001b[0;32m~/Documents/rp_project/src/classifier.py:84\u001b[0m, in \u001b[0;36mClassifier.predict\u001b[0;34m(self, sample)\u001b[0m\n\u001b[1;32m     81\u001b[0m \u001b[39mmatch\u001b[39;00m \u001b[39mself\u001b[39m\u001b[39m.\u001b[39m__selected_model:\n\u001b[1;32m     82\u001b[0m     \u001b[39mcase\u001b[39;00m \u001b[39m\"\u001b[39m\u001b[39mone_vs_all\u001b[39m\u001b[39m\"\u001b[39m:\n\u001b[1;32m     83\u001b[0m         \u001b[39mself\u001b[39m\u001b[39m.\u001b[39m__predicted_labels \u001b[39m=\u001b[39m (\n\u001b[0;32m---> 84\u001b[0m             \u001b[39mself\u001b[39;49m\u001b[39m.\u001b[39;49m__predict_one_vs_all_euclidean_minimum_distance(test_data)\n\u001b[1;32m     85\u001b[0m         )\n\u001b[1;32m     86\u001b[0m     \u001b[39mcase\u001b[39;00m\u001b[39m \u001b[39m\u001b[39m_\u001b[39;00m:\n\u001b[1;32m     87\u001b[0m         \u001b[39mraise\u001b[39;00m \u001b[39mNotImplementedError\u001b[39;00m(\u001b[39mself\u001b[39m\u001b[39m.\u001b[39m__selected_model)\n",
      "File \u001b[0;32m~/Documents/rp_project/src/classifier.py:187\u001b[0m, in \u001b[0;36mClassifier.__predict_one_vs_all_euclidean_minimum_distance\u001b[0;34m(self, sample)\u001b[0m\n\u001b[1;32m    184\u001b[0m     result \u001b[39m=\u001b[39m np\u001b[39m.\u001b[39mzeros(sample\u001b[39m.\u001b[39mshape[\u001b[39m0\u001b[39m])\n\u001b[1;32m    186\u001b[0m     \u001b[39mfor\u001b[39;00m index \u001b[39min\u001b[39;00m \u001b[39mrange\u001b[39m(sample\u001b[39m.\u001b[39mshape[\u001b[39m0\u001b[39m]):\n\u001b[0;32m--> 187\u001b[0m         result_teste \u001b[39m=\u001b[39m predict_one(sample\u001b[39m.\u001b[39;49miloc[index, :])\n\u001b[1;32m    188\u001b[0m         result[index] \u001b[39m=\u001b[39m result_teste\n\u001b[1;32m    190\u001b[0m \u001b[39melse\u001b[39;00m:\n",
      "File \u001b[0;32m~/Documents/rp_project/src/classifier.py:150\u001b[0m, in \u001b[0;36mClassifier.__predict_one_vs_all_euclidean_minimum_distance.<locals>.predict_one\u001b[0;34m(one_sample)\u001b[0m\n\u001b[1;32m    144\u001b[0m \u001b[39mdef\u001b[39;00m \u001b[39mpredict_one\u001b[39m(one_sample: pd\u001b[39m.\u001b[39mSeries):\n\u001b[1;32m    145\u001b[0m     \u001b[39mif\u001b[39;00m \u001b[39mself\u001b[39m\u001b[39m.\u001b[39m__distance_type \u001b[39m==\u001b[39m \u001b[39m\"\u001b[39m\u001b[39meuclidean\u001b[39m\u001b[39m\"\u001b[39m:\n\u001b[1;32m    146\u001b[0m         \u001b[39mreturn\u001b[39;00m np\u001b[39m.\u001b[39mdot(\n\u001b[1;32m    147\u001b[0m             (\n\u001b[1;32m    148\u001b[0m                 \u001b[39mself\u001b[39m\u001b[39m.\u001b[39m__mean_target_class[:, \u001b[39m0\u001b[39m] \u001b[39m-\u001b[39m \u001b[39mself\u001b[39m\u001b[39m.\u001b[39m__mean_other_classes[:, \u001b[39m0\u001b[39m]\n\u001b[1;32m    149\u001b[0m             )\u001b[39m.\u001b[39mT,\n\u001b[0;32m--> 150\u001b[0m             np\u001b[39m.\u001b[39;49msubtract(\n\u001b[1;32m    151\u001b[0m                 one_sample,\n\u001b[1;32m    152\u001b[0m                 \u001b[39m0.5\u001b[39;49m\n\u001b[1;32m    153\u001b[0m                 \u001b[39m*\u001b[39;49m np\u001b[39m.\u001b[39;49madd(\n\u001b[1;32m    154\u001b[0m                     \u001b[39mself\u001b[39;49m\u001b[39m.\u001b[39;49m__mean_target_class[:, \u001b[39m0\u001b[39;49m],\n\u001b[1;32m    155\u001b[0m                     \u001b[39mself\u001b[39;49m\u001b[39m.\u001b[39;49m__mean_other_classes[:, \u001b[39m0\u001b[39;49m],\n\u001b[1;32m    156\u001b[0m                 ),\n\u001b[1;32m    157\u001b[0m             ),\n\u001b[1;32m    158\u001b[0m         )\n\u001b[1;32m    160\u001b[0m     \u001b[39melif\u001b[39;00m \u001b[39mself\u001b[39m\u001b[39m.\u001b[39m__distance_type \u001b[39m==\u001b[39m \u001b[39m\"\u001b[39m\u001b[39mmahalanobis\u001b[39m\u001b[39m\"\u001b[39m:\n\u001b[1;32m    161\u001b[0m         \u001b[39mreturn\u001b[39;00m np\u001b[39m.\u001b[39mdot(\n\u001b[1;32m    162\u001b[0m             np\u001b[39m.\u001b[39mdot(\n\u001b[1;32m    163\u001b[0m                 np\u001b[39m.\u001b[39msubtract(\n\u001b[0;32m   (...)\u001b[0m\n\u001b[1;32m    176\u001b[0m             ),\n\u001b[1;32m    177\u001b[0m         )\n",
      "File \u001b[0;32m~/Documents/rp_project/env/lib/python3.10/site-packages/pandas/core/generic.py:2113\u001b[0m, in \u001b[0;36mNDFrame.__array_ufunc__\u001b[0;34m(self, ufunc, method, *inputs, **kwargs)\u001b[0m\n\u001b[1;32m   2109\u001b[0m \u001b[39m@final\u001b[39m\n\u001b[1;32m   2110\u001b[0m \u001b[39mdef\u001b[39;00m \u001b[39m__array_ufunc__\u001b[39m(\n\u001b[1;32m   2111\u001b[0m     \u001b[39mself\u001b[39m, ufunc: np\u001b[39m.\u001b[39mufunc, method: \u001b[39mstr\u001b[39m, \u001b[39m*\u001b[39minputs: Any, \u001b[39m*\u001b[39m\u001b[39m*\u001b[39mkwargs: Any\n\u001b[1;32m   2112\u001b[0m ):\n\u001b[0;32m-> 2113\u001b[0m     \u001b[39mreturn\u001b[39;00m arraylike\u001b[39m.\u001b[39;49marray_ufunc(\u001b[39mself\u001b[39;49m, ufunc, method, \u001b[39m*\u001b[39;49minputs, \u001b[39m*\u001b[39;49m\u001b[39m*\u001b[39;49mkwargs)\n",
      "File \u001b[0;32m~/Documents/rp_project/env/lib/python3.10/site-packages/pandas/core/arraylike.py:265\u001b[0m, in \u001b[0;36marray_ufunc\u001b[0;34m(self, ufunc, method, *inputs, **kwargs)\u001b[0m\n\u001b[1;32m    262\u001b[0m     \u001b[39mreturn\u001b[39;00m result\n\u001b[1;32m    264\u001b[0m \u001b[39m# for binary ops, use our custom dunder methods\u001b[39;00m\n\u001b[0;32m--> 265\u001b[0m result \u001b[39m=\u001b[39m maybe_dispatch_ufunc_to_dunder_op(\u001b[39mself\u001b[39;49m, ufunc, method, \u001b[39m*\u001b[39;49minputs, \u001b[39m*\u001b[39;49m\u001b[39m*\u001b[39;49mkwargs)\n\u001b[1;32m    266\u001b[0m \u001b[39mif\u001b[39;00m result \u001b[39mis\u001b[39;00m \u001b[39mnot\u001b[39;00m \u001b[39mNotImplemented\u001b[39m:\n\u001b[1;32m    267\u001b[0m     \u001b[39mreturn\u001b[39;00m result\n",
      "File \u001b[0;32m~/Documents/rp_project/env/lib/python3.10/site-packages/pandas/_libs/ops_dispatch.pyx:107\u001b[0m, in \u001b[0;36mpandas._libs.ops_dispatch.maybe_dispatch_ufunc_to_dunder_op\u001b[0;34m()\u001b[0m\n",
      "File \u001b[0;32m~/Documents/rp_project/env/lib/python3.10/site-packages/pandas/core/ops/common.py:72\u001b[0m, in \u001b[0;36m_unpack_zerodim_and_defer.<locals>.new_method\u001b[0;34m(self, other)\u001b[0m\n\u001b[1;32m     68\u001b[0m             \u001b[39mreturn\u001b[39;00m \u001b[39mNotImplemented\u001b[39m\n\u001b[1;32m     70\u001b[0m other \u001b[39m=\u001b[39m item_from_zerodim(other)\n\u001b[0;32m---> 72\u001b[0m \u001b[39mreturn\u001b[39;00m method(\u001b[39mself\u001b[39;49m, other)\n",
      "File \u001b[0;32m~/Documents/rp_project/env/lib/python3.10/site-packages/pandas/core/arraylike.py:110\u001b[0m, in \u001b[0;36mOpsMixin.__sub__\u001b[0;34m(self, other)\u001b[0m\n\u001b[1;32m    108\u001b[0m \u001b[39m@unpack_zerodim_and_defer\u001b[39m(\u001b[39m\"\u001b[39m\u001b[39m__sub__\u001b[39m\u001b[39m\"\u001b[39m)\n\u001b[1;32m    109\u001b[0m \u001b[39mdef\u001b[39;00m \u001b[39m__sub__\u001b[39m(\u001b[39mself\u001b[39m, other):\n\u001b[0;32m--> 110\u001b[0m     \u001b[39mreturn\u001b[39;00m \u001b[39mself\u001b[39;49m\u001b[39m.\u001b[39;49m_arith_method(other, operator\u001b[39m.\u001b[39;49msub)\n",
      "File \u001b[0;32m~/Documents/rp_project/env/lib/python3.10/site-packages/pandas/core/series.py:6259\u001b[0m, in \u001b[0;36mSeries._arith_method\u001b[0;34m(self, other, op)\u001b[0m\n\u001b[1;32m   6257\u001b[0m \u001b[39mdef\u001b[39;00m \u001b[39m_arith_method\u001b[39m(\u001b[39mself\u001b[39m, other, op):\n\u001b[1;32m   6258\u001b[0m     \u001b[39mself\u001b[39m, other \u001b[39m=\u001b[39m ops\u001b[39m.\u001b[39malign_method_SERIES(\u001b[39mself\u001b[39m, other)\n\u001b[0;32m-> 6259\u001b[0m     \u001b[39mreturn\u001b[39;00m base\u001b[39m.\u001b[39;49mIndexOpsMixin\u001b[39m.\u001b[39;49m_arith_method(\u001b[39mself\u001b[39;49m, other, op)\n",
      "File \u001b[0;32m~/Documents/rp_project/env/lib/python3.10/site-packages/pandas/core/base.py:1325\u001b[0m, in \u001b[0;36mIndexOpsMixin._arith_method\u001b[0;34m(self, other, op)\u001b[0m\n\u001b[1;32m   1322\u001b[0m rvalues \u001b[39m=\u001b[39m ensure_wrapped_if_datetimelike(rvalues)\n\u001b[1;32m   1324\u001b[0m \u001b[39mwith\u001b[39;00m np\u001b[39m.\u001b[39merrstate(\u001b[39mall\u001b[39m\u001b[39m=\u001b[39m\u001b[39m\"\u001b[39m\u001b[39mignore\u001b[39m\u001b[39m\"\u001b[39m):\n\u001b[0;32m-> 1325\u001b[0m     result \u001b[39m=\u001b[39m ops\u001b[39m.\u001b[39;49marithmetic_op(lvalues, rvalues, op)\n\u001b[1;32m   1327\u001b[0m \u001b[39mreturn\u001b[39;00m \u001b[39mself\u001b[39m\u001b[39m.\u001b[39m_construct_result(result, name\u001b[39m=\u001b[39mres_name)\n",
      "File \u001b[0;32m~/Documents/rp_project/env/lib/python3.10/site-packages/pandas/core/ops/array_ops.py:226\u001b[0m, in \u001b[0;36marithmetic_op\u001b[0;34m(left, right, op)\u001b[0m\n\u001b[1;32m    222\u001b[0m     _bool_arith_check(op, left, right)\n\u001b[1;32m    224\u001b[0m     \u001b[39m# error: Argument 1 to \"_na_arithmetic_op\" has incompatible type\u001b[39;00m\n\u001b[1;32m    225\u001b[0m     \u001b[39m# \"Union[ExtensionArray, ndarray[Any, Any]]\"; expected \"ndarray[Any, Any]\"\u001b[39;00m\n\u001b[0;32m--> 226\u001b[0m     res_values \u001b[39m=\u001b[39m _na_arithmetic_op(left, right, op)  \u001b[39m# type: ignore[arg-type]\u001b[39;00m\n\u001b[1;32m    228\u001b[0m \u001b[39mreturn\u001b[39;00m res_values\n",
      "File \u001b[0;32m~/Documents/rp_project/env/lib/python3.10/site-packages/pandas/core/ops/array_ops.py:165\u001b[0m, in \u001b[0;36m_na_arithmetic_op\u001b[0;34m(left, right, op, is_cmp)\u001b[0m\n\u001b[1;32m    162\u001b[0m     func \u001b[39m=\u001b[39m partial(expressions\u001b[39m.\u001b[39mevaluate, op)\n\u001b[1;32m    164\u001b[0m \u001b[39mtry\u001b[39;00m:\n\u001b[0;32m--> 165\u001b[0m     result \u001b[39m=\u001b[39m func(left, right)\n\u001b[1;32m    166\u001b[0m \u001b[39mexcept\u001b[39;00m \u001b[39mTypeError\u001b[39;00m:\n\u001b[1;32m    167\u001b[0m     \u001b[39mif\u001b[39;00m \u001b[39mnot\u001b[39;00m is_cmp \u001b[39mand\u001b[39;00m (is_object_dtype(left\u001b[39m.\u001b[39mdtype) \u001b[39mor\u001b[39;00m is_object_dtype(right)):\n\u001b[1;32m    168\u001b[0m         \u001b[39m# For object dtype, fallback to a masked operation (only operating\u001b[39;00m\n\u001b[1;32m    169\u001b[0m         \u001b[39m#  on the non-missing values)\u001b[39;00m\n\u001b[1;32m    170\u001b[0m         \u001b[39m# Don't do this for comparisons, as that will handle complex numbers\u001b[39;00m\n\u001b[1;32m    171\u001b[0m         \u001b[39m#  incorrectly, see GH#32047\u001b[39;00m\n",
      "File \u001b[0;32m~/Documents/rp_project/env/lib/python3.10/site-packages/pandas/core/computation/expressions.py:241\u001b[0m, in \u001b[0;36mevaluate\u001b[0;34m(op, a, b, use_numexpr)\u001b[0m\n\u001b[1;32m    238\u001b[0m \u001b[39mif\u001b[39;00m op_str \u001b[39mis\u001b[39;00m \u001b[39mnot\u001b[39;00m \u001b[39mNone\u001b[39;00m:\n\u001b[1;32m    239\u001b[0m     \u001b[39mif\u001b[39;00m use_numexpr:\n\u001b[1;32m    240\u001b[0m         \u001b[39m# error: \"None\" not callable\u001b[39;00m\n\u001b[0;32m--> 241\u001b[0m         \u001b[39mreturn\u001b[39;00m _evaluate(op, op_str, a, b)  \u001b[39m# type: ignore[misc]\u001b[39;00m\n\u001b[1;32m    242\u001b[0m \u001b[39mreturn\u001b[39;00m _evaluate_standard(op, op_str, a, b)\n",
      "File \u001b[0;32m~/Documents/rp_project/env/lib/python3.10/site-packages/pandas/core/computation/expressions.py:70\u001b[0m, in \u001b[0;36m_evaluate_standard\u001b[0;34m(op, op_str, a, b)\u001b[0m\n\u001b[1;32m     68\u001b[0m \u001b[39mif\u001b[39;00m _TEST_MODE:\n\u001b[1;32m     69\u001b[0m     _store_test_result(\u001b[39mFalse\u001b[39;00m)\n\u001b[0;32m---> 70\u001b[0m \u001b[39mreturn\u001b[39;00m op(a, b)\n",
      "\u001b[0;31mValueError\u001b[0m: operands could not be broadcast together with shapes (5,) (10,) "
     ]
    }
   ],
   "source": [
    "def run_one_vs_all(train_data, test_data, distance_type:str ):\n",
    "\n",
    "    model: cl.Classifier = cl.Classifier(train_data)\n",
    "\n",
    "    model.pre_process(\"KW\")\n",
    "\n",
    "    model.train(\"one_vs_all\", target_class=TARGET_CLASS, distance_type=distance_type)\n",
    "\n",
    "    model.predict(test_data)\n",
    "\n",
    "    target_labels = test_data.iloc[:, -1].to_numpy()\n",
    "\n",
    "    model.get_statistics(target_labels, TARGET_CLASS)\n",
    "\n",
    "\n",
    "run_one_vs_all(standarized_train, standarized_test, \"euclidean\")\n",
    "run_one_vs_all(standarized_train, standarized_test, \"mahalanobis\")\n"
   ]
  }
 ],
 "metadata": {
  "kernelspec": {
   "display_name": "Python 3 (ipykernel)",
   "language": "python",
   "name": "python3"
  },
  "language_info": {
   "codemirror_mode": {
    "name": "ipython",
    "version": 3
   },
   "file_extension": ".py",
   "mimetype": "text/x-python",
   "name": "python",
   "nbconvert_exporter": "python",
   "pygments_lexer": "ipython3",
   "version": "3.10.10"
  }
 },
 "nbformat": 4,
 "nbformat_minor": 2
}
