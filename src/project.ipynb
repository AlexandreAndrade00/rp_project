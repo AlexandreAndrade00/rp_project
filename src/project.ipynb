{
 "cells": [
  {
   "cell_type": "code",
   "execution_count": 5,
   "metadata": {},
   "outputs": [],
   "source": [
    "from utils import read_and_standardize_data\n",
    "import classifier as cl\n",
    "import csv"
   ]
  },
  {
   "cell_type": "code",
   "execution_count": 7,
   "metadata": {},
   "outputs": [],
   "source": [
    "with open('classifiers.csv', 'w') as f:\n",
    "    writer = csv.writer(f)\n",
    "    classifier_params = ['num', 'kruskall', 'one_vs?', 'distance_type', 'algorithm']\n",
    "    writer.writerow(classifier_params)\n",
    "    classifier1 = ['1','yes', 'one_vs_all', 'euclidean', 'none']\n",
    "    writer.writerow(classifier1)\n",
    "    classifier2 = ['2','no', 'one_vs_all', 'euclidean', 'none']\n",
    "    writer.writerow(classifier2)\n",
    "    classifier3 = ['3','yes', 'one_vs_all', 'mahalanobis', 'none']\n",
    "    writer.writerow(classifier3)\n",
    "    classifier4 = ['4','no', 'one_vs_all', 'mahalanobis', 'none']\n",
    "\n",
    "    writer.writerow(classifier4)\n",
    "    classifier5 = ['5','yes', 'one_vs_all', 'none', 'naive_bayes']\n",
    "    writer.writerow(classifier5)\n",
    "    classifier6 = ['6','no', 'one_vs_all', 'none', 'naive_bayes']\n",
    "    writer.writerow(classifier6)\n",
    "    classifier7 = ['7','yes', 'one_vs_one', 'none', 'naive_bayes']\n",
    "    writer.writerow(classifier7)\n",
    "    classifier8 = ['8','no', 'one_vs_one', 'none', 'naive_bayes']\n",
    "    writer.writerow(classifier8)\n",
    "\n",
    "    classifier9 = ['9','yes', 'one_vs_all', 'none', 'knn']\n",
    "    writer.writerow(classifier9)\n",
    "    classifier10 = ['10','no', 'one_vs_all', 'none', 'knn']\n",
    "    writer.writerow(classifier10)\n",
    "    classifier11 = ['11','yes', 'one_vs_one', 'none', 'knn']\n",
    "    writer.writerow(classifier11)\n",
    "    classifier12 = ['12','no', 'one_vs_one', 'none', 'knn']\n",
    "    writer.writerow(classifier12)\n",
    "\n",
    "    classifier13 = ['13','yes', 'one_vs_all', 'none', 'svm']\n",
    "    writer.writerow(classifier13)\n",
    "    classifier14 = ['14','no', 'one_vs_all', 'none', 'svm']\n",
    "    writer.writerow(classifier14)\n",
    "    classifier15 = ['15','yes', 'one_vs_one', 'none', 'svm']\n",
    "    writer.writerow(classifier15)\n",
    "    classifier16 = ['16','no', 'one_vs_one', 'none', 'svm']\n",
    "    writer.writerow(classifier16)\n",
    "\n",
    "    "
   ]
  },
  {
   "cell_type": "code",
   "execution_count": 36,
   "metadata": {},
   "outputs": [],
   "source": [
    "with open('results.csv', 'w') as f:\n",
    "    writer = csv.writer(f)\n",
    "    res = ['sensivity', 'specificity', 'precision']\n",
    "    writer.writerow(res)"
   ]
  },
  {
   "cell_type": "code",
   "execution_count": 3,
   "metadata": {},
   "outputs": [
    {
     "name": "stdout",
     "output_type": "stream",
     "text": [
      "   0   1  2  3  4   5   6   7   8  9\n",
      "0  7   0  1  2  0   3   2   0   4  1\n",
      "1  0  18  0  0  0   1   0   0   0  1\n",
      "2  5   0  9  1  0   2   0   1   0  2\n",
      "3  0   1  1  2  4   0   3   6   1  2\n",
      "4  1   0  0  5  5   0   3   3   3  0\n",
      "5  1   2  2  3  0  10   0   1   1  0\n",
      "6  1   0  0  2  1   0  14   0   0  2\n",
      "7  0   0  0  1  1   0   0  17   1  0\n",
      "8  0   0  3  0  2   0   0   3  11  1\n",
      "9  1   0  3  1  0   2   7   1   2  3\n",
      "0.45684145569185153\n",
      "       label  sensitivity  specificity  precision\n",
      "0      blues         0.35     0.950000   0.437500\n",
      "1  classical         0.90     0.983333   0.857143\n",
      "2    country         0.45     0.944444   0.473684\n",
      "3      disco         0.10     0.916667   0.117647\n",
      "4     hiphop         0.25     0.955556   0.384615\n",
      "5       jazz         0.50     0.955556   0.555556\n",
      "6      metal         0.70     0.916667   0.482759\n",
      "7        pop         0.85     0.916667   0.531250\n",
      "8     reggae         0.55     0.933333   0.478261\n",
      "9       rock         0.15     0.950000   0.250000\n",
      "[0.48, 0.9422222222222221, 0.45684145569185153]\n"
     ]
    }
   ],
   "source": [
    "# X_train, X_test, y_train, y_test = read_and_standardize_data(True, \"blues\")\n",
    "X_train, X_test, y_train, y_test = read_and_standardize_data(False)\n",
    "\n",
    "model: cl.Classifier = cl.Classifier(X_train, y_train)\n",
    "\n",
    "model.feature_selection()\n",
    "\n",
    "#model.train(\"one_vs_all\", distance_type=\"mahalanobis\")\n",
    "model.train(\"gnb\")\n",
    "\n",
    "model.predict(X_test)\n",
    "\n",
    "# stats = model.get_statistics(y_test, True).values()\n",
    "stats = model.get_statistics(y_test, False)\n",
    "print(stats)\n"
   ]
  },
  {
   "cell_type": "code",
   "execution_count": 6,
   "metadata": {},
   "outputs": [],
   "source": [
    "with open('results.csv', 'a') as f:\n",
    "    # 'a' instead of 'w' makes things append instead of ovewriting\n",
    "    writer = csv.writer(f)\n",
    "    writer.writerow(stats)\n",
    "    "
   ]
  }
 ],
 "metadata": {
  "kernelspec": {
   "display_name": "Python 3 (ipykernel)",
   "language": "python",
   "name": "python3"
  },
  "language_info": {
   "codemirror_mode": {
    "name": "ipython",
    "version": 3
   },
   "file_extension": ".py",
   "mimetype": "text/x-python",
   "name": "python",
   "nbconvert_exporter": "python",
   "pygments_lexer": "ipython3",
   "version": "3.10.9"
  }
 },
 "nbformat": 4,
 "nbformat_minor": 2
}
